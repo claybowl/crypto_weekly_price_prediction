{
  "nbformat": 4,
  "nbformat_minor": 5,
  "metadata": {
    "noteable-chatgpt": {
      "create_notebook": {
        "openai_conversation_id": "c713ea21-7a60-5ca0-8c80-12963bf81ff7",
        "openai_ephemeral_user_id": "3beff982-cdf6-56be-b27e-cbb377703dcb",
        "openai_subdivision1_iso_code": "US-OK"
      }
    },
    "noteable": {
      "last_transaction_id": "f84b8e97-1e6e-4d76-8fd7-9b5e944ed1b4"
    },
    "selected_hardware_size": "small"
  },
  "cells": [
    {
      "id": "a53f0ceb-8173-486f-b65c-85729b20e709",
      "cell_type": "markdown",
      "source": "# ETH Price Prediction using Hidden Markov Model (HMM)\nIn this notebook, we will use a Hidden Markov Model to predict the price of Ethereum (ETH) over the next week. We will use historical price data to train our model.",
      "metadata": {
        "jupyter": {
          "outputs_hidden": false,
          "source_hidden": false
        },
        "noteable": {
          "cell_type": "markdown"
        }
      }
    },
    {
      "id": "1bbaa064-b6d5-4909-8346-3fb70f0629a3",
      "cell_type": "code",
      "metadata": {
        "jupyter": {
          "outputs_hidden": false,
          "source_hidden": false
        },
        "noteable": {
          "cell_type": "code",
          "output_collection_id": "886c565f-f178-4cae-bcc0-11f997be0a08"
        },
        "ExecuteTime": {
          "end_time": "2023-06-08T20:28:28.261515+00:00",
          "start_time": "2023-06-08T20:28:21.564254+00:00"
        }
      },
      "execution_count": null,
      "source": "# Importing Required Libraries\n!pip install hmmlearn\nimport numpy as np\nimport pandas as pd\nimport matplotlib.pyplot as plt\nfrom hmmlearn import hmm\nimport seaborn as sns\nimport requests\nfrom datetime import datetime, timedelta\nimport warnings\nwarnings.filterwarnings('ignore')\n\nsns.set()",
      "outputs": []
    },
    {
      "id": "4c47771e-879a-4a6a-8d04-b2f53be83ef6",
      "cell_type": "code",
      "metadata": {
        "jupyter": {
          "outputs_hidden": false,
          "source_hidden": false
        },
        "noteable": {
          "cell_type": "code",
          "output_collection_id": "da3b09c7-79ee-47cf-bd6d-5ffa277c26e9"
        },
        "ExecuteTime": {
          "end_time": "2023-06-08T20:28:28.666952+00:00",
          "start_time": "2023-06-08T20:28:28.268353+00:00"
        },
        "datalink": {
          "0624f610-644c-499c-be77-dcbdde292063": {
            "applied_filters": [],
            "dataframe_info": {
              "default_index_used": true,
              "orig_num_cols": 2,
              "orig_num_rows": 5,
              "orig_size_bytes": 120,
              "truncated_num_cols": 2,
              "truncated_num_rows": 5,
              "truncated_size_bytes": 120,
              "truncated_string_columns": []
            },
            "display_id": "0624f610-644c-499c-be77-dcbdde292063",
            "dx_settings": {
              "ALLOW_NOTEABLE_ATTRS": true,
              "COLUMN_SAMPLING_METHOD": "outer",
              "DB_LOCATION": ":memory:",
              "DEV_MODE": false,
              "DISPLAY_MAX_COLUMNS": 100,
              "DISPLAY_MAX_ROWS": 50000,
              "DISPLAY_MODE": "simple",
              "ENABLE_ASSIGNMENT": true,
              "ENABLE_DATALINK": true,
              "FLATTEN_COLUMN_VALUES": true,
              "FLATTEN_INDEX_VALUES": false,
              "GENERATE_DEX_METADATA": false,
              "HTML_TABLE_SCHEMA": false,
              "LOG_LEVEL": 30,
              "MAX_RENDER_SIZE_BYTES": 104857600,
              "MAX_STRING_LENGTH": 250,
              "NUM_PAST_SAMPLES_TRACKED": 3,
              "RANDOM_STATE": 12648430,
              "RESET_INDEX_VALUES": false,
              "ROW_SAMPLING_METHOD": "random",
              "SAMPLING_FACTOR": 0.1,
              "SAMPLING_METHOD": "random",
              "STRINGIFY_COLUMN_VALUES": true,
              "STRINGIFY_INDEX_VALUES": false
            },
            "sample_history": [],
            "sampling_time": "2023-06-08T16:35:33.549229",
            "user_variable_name": null,
            "variable_name": "unk_dataframe_2485b9f2c4a44bffb3d89b27a2e5cf2a"
          },
          "4a7a871c-191f-43de-afe2-11e31cad6da0": {
            "applied_filters": [],
            "dataframe_info": {
              "default_index_used": true,
              "orig_num_cols": 2,
              "orig_num_rows": 5,
              "orig_size_bytes": 120,
              "truncated_num_cols": 2,
              "truncated_num_rows": 5,
              "truncated_size_bytes": 120,
              "truncated_string_columns": []
            },
            "display_id": "4a7a871c-191f-43de-afe2-11e31cad6da0",
            "dx_settings": {
              "ALLOW_NOTEABLE_ATTRS": true,
              "COLUMN_SAMPLING_METHOD": "outer",
              "DB_LOCATION": ":memory:",
              "DEV_MODE": false,
              "DISPLAY_MAX_COLUMNS": 100,
              "DISPLAY_MAX_ROWS": 50000,
              "DISPLAY_MODE": "simple",
              "ENABLE_ASSIGNMENT": true,
              "ENABLE_DATALINK": true,
              "FLATTEN_COLUMN_VALUES": true,
              "FLATTEN_INDEX_VALUES": false,
              "GENERATE_DEX_METADATA": false,
              "HTML_TABLE_SCHEMA": false,
              "LOG_LEVEL": 30,
              "MAX_RENDER_SIZE_BYTES": 104857600,
              "MAX_STRING_LENGTH": 250,
              "NUM_PAST_SAMPLES_TRACKED": 3,
              "RANDOM_STATE": 12648430,
              "RESET_INDEX_VALUES": false,
              "ROW_SAMPLING_METHOD": "random",
              "SAMPLING_FACTOR": 0.1,
              "SAMPLING_METHOD": "random",
              "STRINGIFY_COLUMN_VALUES": true,
              "STRINGIFY_INDEX_VALUES": false
            },
            "sample_history": [],
            "sampling_time": "2023-06-08T20:28:28.509353",
            "user_variable_name": null,
            "variable_name": "unk_dataframe_21b869bdbdb84d88bf68d5b21a4ebf53"
          }
        }
      },
      "execution_count": null,
      "source": "# Function to fetch ETH price data from Coingecko API\ndef fetch_price_data(days):\n    end_date = datetime.now()\n    start_date = end_date - timedelta(days=days)\n    url = f'https://api.coingecko.com/api/v3/coins/ethereum/market_chart/range?vs_currency=usd&from={start_date.timestamp()}&to={end_date.timestamp()}'\n    response = requests.get(url)\n    data = response.json()\n    prices = data['prices']\n    price_data = pd.DataFrame(prices, columns=['time', 'price'])\n    price_data['time'] = pd.to_datetime(price_data['time'], unit='ms')\n    return price_data\n\n# Fetching last 365 days of data\nprice_data = fetch_price_data(365)\nprice_data.head()",
      "outputs": []
    },
    {
      "id": "45fbc3a1-d0e3-41f3-b981-dbbf3809df54",
      "cell_type": "code",
      "metadata": {
        "jupyter": {
          "outputs_hidden": false,
          "source_hidden": false
        },
        "noteable": {
          "cell_type": "code",
          "output_collection_id": "3f6076d8-0076-4c02-ba10-29b1fe4e6fc9"
        },
        "ExecuteTime": {
          "end_time": "2023-06-08T20:28:35.667912+00:00",
          "start_time": "2023-06-08T20:28:34.934452+00:00"
        }
      },
      "execution_count": null,
      "source": "# Plotting the price data\nplt.figure(figsize=(10,5))\nplt.plot(price_data['time'], price_data['price'])\nplt.title('ETH Price Data (Last 365 Days)')\nplt.xlabel('Date')\nplt.ylabel('Price (USD)')\nplt.show()",
      "outputs": []
    },
    {
      "id": "7a70d3a5-0bcd-40a7-b071-d1c3c7a22a02",
      "cell_type": "code",
      "metadata": {
        "jupyter": {
          "outputs_hidden": false,
          "source_hidden": false
        },
        "noteable": {
          "cell_type": "code",
          "output_collection_id": "ef8dc82d-bc30-4bf9-87e0-5d5befb6d97a"
        },
        "ExecuteTime": {
          "end_time": "2023-06-08T16:36:22.770875+00:00",
          "start_time": "2023-06-08T16:36:22.570153+00:00"
        },
        "datalink": {
          "04f3209b-a197-42b1-9c09-cbdb552ff443": {
            "applied_filters": [],
            "dataframe_info": {
              "default_index_used": true,
              "orig_num_cols": 3,
              "orig_num_rows": 5,
              "orig_size_bytes": 160,
              "truncated_num_cols": 3,
              "truncated_num_rows": 5,
              "truncated_size_bytes": 160,
              "truncated_string_columns": []
            },
            "display_id": "04f3209b-a197-42b1-9c09-cbdb552ff443",
            "dx_settings": {
              "ALLOW_NOTEABLE_ATTRS": true,
              "COLUMN_SAMPLING_METHOD": "outer",
              "DB_LOCATION": ":memory:",
              "DEV_MODE": false,
              "DISPLAY_MAX_COLUMNS": 100,
              "DISPLAY_MAX_ROWS": 50000,
              "DISPLAY_MODE": "simple",
              "ENABLE_ASSIGNMENT": true,
              "ENABLE_DATALINK": true,
              "FLATTEN_COLUMN_VALUES": true,
              "FLATTEN_INDEX_VALUES": false,
              "GENERATE_DEX_METADATA": false,
              "HTML_TABLE_SCHEMA": false,
              "LOG_LEVEL": 30,
              "MAX_RENDER_SIZE_BYTES": 104857600,
              "MAX_STRING_LENGTH": 250,
              "NUM_PAST_SAMPLES_TRACKED": 3,
              "RANDOM_STATE": 12648430,
              "RESET_INDEX_VALUES": false,
              "ROW_SAMPLING_METHOD": "random",
              "SAMPLING_FACTOR": 0.1,
              "SAMPLING_METHOD": "random",
              "STRINGIFY_COLUMN_VALUES": true,
              "STRINGIFY_INDEX_VALUES": false
            },
            "sample_history": [],
            "sampling_time": "2023-06-08T16:36:22.612750",
            "user_variable_name": null,
            "variable_name": "unk_dataframe_11f1b3fa224e43f6ae1e98ea0526a202"
          }
        }
      },
      "execution_count": null,
      "source": "# Preprocessing the data for HMM\ndef preprocess_data(data):\n    data = data.copy()\n    data['log_return'] = np.log(data['price']).diff()\n    data = data.dropna()\n    return data\n\nprocessed_data = preprocess_data(price_data)\nprocessed_data.head()",
      "outputs": []
    },
    {
      "id": "c9668702-ba3c-4b31-8787-42d6e48697bc",
      "cell_type": "code",
      "metadata": {
        "jupyter": {
          "outputs_hidden": false,
          "source_hidden": false
        },
        "noteable": {
          "cell_type": "code",
          "output_collection_id": "1adf81b0-da5f-458f-9a98-679e39b3b7a0"
        },
        "ExecuteTime": {
          "end_time": "2023-06-08T16:36:45.684829+00:00",
          "start_time": "2023-06-08T16:36:45.275004+00:00"
        }
      },
      "execution_count": null,
      "source": "# Training the HMM\nmodel = hmm.GaussianHMM(n_components=4, covariance_type='diag', n_iter=1000)\nmodel.fit(processed_data['log_return'].values.reshape(-1, 1))\n\n# Predicting the hidden states\nhidden_states = model.predict(processed_data['log_return'].values.reshape(-1, 1))",
      "outputs": []
    },
    {
      "id": "27c2cefb-b2f5-4181-900b-6a20b851bff1",
      "cell_type": "code",
      "metadata": {
        "jupyter": {
          "outputs_hidden": false,
          "source_hidden": false
        },
        "noteable": {
          "cell_type": "code",
          "output_collection_id": "25a0d763-949d-4eb5-8d0b-d32570274182"
        },
        "ExecuteTime": {
          "end_time": "2023-06-08T16:36:52.184223+00:00",
          "start_time": "2023-06-08T16:36:51.578547+00:00"
        }
      },
      "execution_count": null,
      "source": "# Plotting the hidden states\nplt.figure(figsize=(10,5))\nplt.plot(processed_data['time'], hidden_states)\nplt.title('Hidden States')\nplt.xlabel('Date')\nplt.ylabel('State')\nplt.show()",
      "outputs": []
    },
    {
      "id": "822f20ff-e15d-40ae-8458-872bdcf0e300",
      "cell_type": "code",
      "metadata": {
        "jupyter": {
          "outputs_hidden": false,
          "source_hidden": false
        },
        "noteable": {
          "cell_type": "code",
          "output_collection_id": "7a860d1d-a8b8-4297-8e19-a33caa6c7ae6"
        },
        "ExecuteTime": {
          "end_time": "2023-06-08T16:37:06.725729+00:00",
          "start_time": "2023-06-08T16:37:06.560893+00:00"
        }
      },
      "execution_count": null,
      "source": "# Function to simulate the next 7 days\ndef simulate_next_7_days(model, last_state):\n    future_days = 7\n    predictions = []\n    current_state = last_state\n\n    for _ in range(future_days):\n        next_state = np.random.choice(4, p=model.transmat_[current_state])\n        next_observation = np.random.normal(loc=model.means_[next_state], scale=np.sqrt(model.covars_[next_state]))\n        predictions.append(next_observation[0])\n        current_state = next_state\n\n    return predictions\n\n# Simulating the next 7 days\npredictions = simulate_next_7_days(model, hidden_states[-1])\npredictions",
      "outputs": []
    },
    {
      "id": "7462eecc-e109-4416-ba91-94be94df1713",
      "cell_type": "code",
      "metadata": {
        "jupyter": {
          "outputs_hidden": false,
          "source_hidden": false
        },
        "noteable": {
          "cell_type": "code",
          "output_collection_id": "361044de-9005-4418-acb7-dea935328ac3"
        },
        "ExecuteTime": {
          "end_time": "2023-06-08T16:37:15.320917+00:00",
          "start_time": "2023-06-08T16:37:15.160021+00:00"
        }
      },
      "execution_count": null,
      "source": "# Converting log returns to price\nlast_price = price_data['price'].values[-1]\npredicted_prices = last_price * np.exp(np.cumsum(predictions))\n\n# Printing the predicted prices\npredicted_prices",
      "outputs": []
    }
  ]
}